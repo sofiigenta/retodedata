{
 "cells": [
  {
   "cell_type": "code",
   "metadata": {
    "tags": [],
    "cell_id": "73e5a189-e98f-472f-a16d-026039f6ee42",
    "deepnote_to_be_reexecuted": false,
    "source_hash": "89f477c7",
    "execution_start": 1645056541278,
    "execution_millis": 302,
    "deepnote_cell_type": "code"
   },
   "source": "import numpy as np\n\n#importar numpy\n\nmy_vector = np.array([2,5,6])\nprint(my_vector)\n\nmy_twovector = [2, 4]\nprint(np.array(my_twovector))\n\nmy_matrix = np.array([[2.5, 6.4] , [49.6, 56.9]])\nprint(my_matrix)\n\n#Funcion arange\n#genera un conjunto de numeros entre un valor inicial y uno final, y \n#si no se le escribe el tercer argumento, se entiende que el incremento es de 1\n#start es inclusivo, stop es exclusivo\nprint(np.arange(start=2, stop= 20, step=3 ))\nprint(np.arange(start=200, stop= 10, step=-5 ))\n\n#Funcion linspace\n#genera un array\n#los numeros son generados aleatoriamente\n#en num pones la cantidad de numeros que deseas tener\n#tanto start como stop son inclusivos\nprint(np.linspace(start= 3, stop= 100, num = 45))\n\n#np.zeros son arrays vacios\n#np.ones son valores pre-definidos\nprint(np.zeros(4))\nprint(np.zeros((3, 3, 3)))\n#me imprime 3 de 3 columnas y 3 filas\n\nprint(np.zeros((2, 5, 6)))\n#me imprime 2 de 5 filas y 6 columnas\n\nprint(np.ones((3, 4, 2)))\n#me imprime 3 de 4 filas y 2 columnas\n\n#np.full\n#crea un array con un valor especifico \n#tiene 2 argumentos, shape = tupla con dimension y fill_value con el valor\n\nprint(np.full(shape=(4,6), fill_value=2))\n#4 filas, 6 columnas, valor 2\n\nprint(np.full(shape=(3,4,5), fill_value=0.5))\n#3, 4 filas, 5 columnas, valor 0.5\n\nbase = np.linspace(2,4,6)\nprint(base)\nprint(np.full_like(base, 6))\n#tomo uno ya formado pero le paso un solo valor\n\nprint(np.full_like(base, np.pi))\n\n\n\n",
   "outputs": [
    {
     "name": "stdout",
     "text": "[2 5 6]\n[2 4]\n[[ 2.5  6.4]\n [49.6 56.9]]\n[ 2  5  8 11 14 17]\n[200 195 190 185 180 175 170 165 160 155 150 145 140 135 130 125 120 115\n 110 105 100  95  90  85  80  75  70  65  60  55  50  45  40  35  30  25\n  20  15]\n[  3.           5.20454545   7.40909091   9.61363636  11.81818182\n  14.02272727  16.22727273  18.43181818  20.63636364  22.84090909\n  25.04545455  27.25        29.45454545  31.65909091  33.86363636\n  36.06818182  38.27272727  40.47727273  42.68181818  44.88636364\n  47.09090909  49.29545455  51.5         53.70454545  55.90909091\n  58.11363636  60.31818182  62.52272727  64.72727273  66.93181818\n  69.13636364  71.34090909  73.54545455  75.75        77.95454545\n  80.15909091  82.36363636  84.56818182  86.77272727  88.97727273\n  91.18181818  93.38636364  95.59090909  97.79545455 100.        ]\n[0. 0. 0. 0.]\n[[[0. 0. 0.]\n  [0. 0. 0.]\n  [0. 0. 0.]]\n\n [[0. 0. 0.]\n  [0. 0. 0.]\n  [0. 0. 0.]]\n\n [[0. 0. 0.]\n  [0. 0. 0.]\n  [0. 0. 0.]]]\n[[[0. 0. 0. 0. 0. 0.]\n  [0. 0. 0. 0. 0. 0.]\n  [0. 0. 0. 0. 0. 0.]\n  [0. 0. 0. 0. 0. 0.]\n  [0. 0. 0. 0. 0. 0.]]\n\n [[0. 0. 0. 0. 0. 0.]\n  [0. 0. 0. 0. 0. 0.]\n  [0. 0. 0. 0. 0. 0.]\n  [0. 0. 0. 0. 0. 0.]\n  [0. 0. 0. 0. 0. 0.]]]\n[[[1. 1.]\n  [1. 1.]\n  [1. 1.]\n  [1. 1.]]\n\n [[1. 1.]\n  [1. 1.]\n  [1. 1.]\n  [1. 1.]]\n\n [[1. 1.]\n  [1. 1.]\n  [1. 1.]\n  [1. 1.]]]\n[[2 2 2 2 2 2]\n [2 2 2 2 2 2]\n [2 2 2 2 2 2]\n [2 2 2 2 2 2]]\n[[[0.5 0.5 0.5 0.5 0.5]\n  [0.5 0.5 0.5 0.5 0.5]\n  [0.5 0.5 0.5 0.5 0.5]\n  [0.5 0.5 0.5 0.5 0.5]]\n\n [[0.5 0.5 0.5 0.5 0.5]\n  [0.5 0.5 0.5 0.5 0.5]\n  [0.5 0.5 0.5 0.5 0.5]\n  [0.5 0.5 0.5 0.5 0.5]]\n\n [[0.5 0.5 0.5 0.5 0.5]\n  [0.5 0.5 0.5 0.5 0.5]\n  [0.5 0.5 0.5 0.5 0.5]\n  [0.5 0.5 0.5 0.5 0.5]]]\n[2.  2.4 2.8 3.2 3.6 4. ]\n[6. 6. 6. 6. 6. 6.]\n[3.14159265 3.14159265 3.14159265 3.14159265 3.14159265 3.14159265]\n",
     "output_type": "stream"
    }
   ],
   "execution_count": null
  },
  {
   "cell_type": "markdown",
   "source": "<a style='text-decoration:none;line-height:16px;display:flex;color:#5B5B62;padding:10px;justify-content:end;' href='https://deepnote.com?utm_source=created-in-deepnote-cell&projectId=e00223e1-940a-419b-854e-d5327f2e6aa8' target=\"_blank\">\n<img alt='Created in deepnote.com' style='display:inline;max-height:16px;margin:0px;margin-right:7.5px;' src='data:image/svg+xml;base64,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' > </img>\nCreated in <span style='font-weight:600;margin-left:4px;'>Deepnote</span></a>",
   "metadata": {
    "tags": [],
    "created_in_deepnote_cell": true,
    "deepnote_cell_type": "markdown"
   }
  }
 ],
 "nbformat": 4,
 "nbformat_minor": 2,
 "metadata": {
  "orig_nbformat": 2,
  "deepnote": {
   "is_reactive": false
  },
  "deepnote_notebook_id": "a0a0055c-5ce4-434b-99b4-3d19a8912b61",
  "deepnote_execution_queue": []
 }
}